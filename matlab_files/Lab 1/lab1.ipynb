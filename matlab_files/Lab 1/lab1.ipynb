{
 "cells": [
  {
   "cell_type": "markdown",
   "metadata": {},
   "source": [
    "## ELEC3305 Lab 1 - Basic Python "
   ]
  },
  {
   "cell_type": "markdown",
   "metadata": {},
   "source": [
    "### General Python Notebook usage instructions"
   ]
  },
  {
   "cell_type": "markdown",
   "metadata": {},
   "source": [
    "- Click the `Play` button to run and advance a cell. The short-cut for it is `shift-enter`\n",
    "- To add a new cell, either select `\"Insert->Insert New Cell Below\"` or click the white down arrow button\n",
    "- You can change the cell mode from code to text in the pulldown menu. I use `Markdown` for text\n",
    "- You can change the texts in the `Markdown` cells by double-clicking them.\n",
    "- To save your notebook, either select `\"File->Save and Checkpoint\"` or hit `Command-s` for Mac and `Ctrl-s` for Windows\n",
    "- To undo in each cell, hit `Command-z` for Mac and `Ctrl-z` for Windows\n",
    "- To undo `Delete Cell`, select `Edit->Undo Delete Cell`\n",
    "- `Help->Keyboard Shortcuts` has a list of keyboard shortcuts"
   ]
  },
  {
   "cell_type": "markdown",
   "metadata": {},
   "source": [
    "### Basic Python Questions:"
   ]
  },
  {
   "cell_type": "markdown",
   "metadata": {},
   "source": [
    "To complete this part of the lab, you will need to read and run the python tutorial posted on the class website.\n",
    "\n",
    "Double-click the answer cell to add your answer. You can also insert a new cell by selecting `\"Insert->Insert New Cell Below\"` or clicking the white down arrow"
   ]
  },
  {
   "cell_type": "markdown",
   "metadata": {},
   "source": [
    "__Q0.__ What do you add after a function to get the help window?"
   ]
  },
  {
   "attachments": {},
   "cell_type": "markdown",
   "metadata": {},
   "source": [
    "__A0.__ '?'"
   ]
  },
  {
   "cell_type": "markdown",
   "metadata": {},
   "source": [
    "__Q1.__ What do you have to import to make all division a real division?"
   ]
  },
  {
   "attachments": {},
   "cell_type": "markdown",
   "metadata": {},
   "source": [
    "__A1.__ from _future_ import division"
   ]
  },
  {
   "cell_type": "markdown",
   "metadata": {},
   "source": [
    "__Q2.__ What are the standard abbreviations for `numpy` and `matplotlib.pyplot` ?"
   ]
  },
  {
   "attachments": {},
   "cell_type": "markdown",
   "metadata": {},
   "source": [
    "__A2.__ np for numpy, plt for matlablib.pyplot\n",
    "import numpy as np\n",
    "import matlablib.pyplot as plt"
   ]
  },
  {
   "cell_type": "markdown",
   "metadata": {},
   "source": [
    "__Q3.__ What is the output of the following commands?\n",
    "\n",
    "    x = np.array([1,2,3,4,5,6])\n",
    "    y = x[0:4]\n",
    "    y[0] = 7\n",
    "    print x"
   ]
  },
  {
   "cell_type": "code",
   "execution_count": 1,
   "metadata": {},
   "outputs": [
    {
     "name": "stdout",
     "output_type": "stream",
     "text": [
      "[7 2 3 4 5 6]\n"
     ]
    }
   ],
   "source": [
    "import numpy as np\n",
    "\n",
    "x = np.array([1, 2, 3, 4, 5, 6])\n",
    "y = x[0:4]\n",
    "y[0] = 7\n",
    "print(x)"
   ]
  },
  {
   "attachments": {},
   "cell_type": "markdown",
   "metadata": {},
   "source": [
    "__A3.__ [7 2 3 4 5 6]"
   ]
  },
  {
   "cell_type": "markdown",
   "metadata": {},
   "source": [
    "__Q4.__ Write a code that prints `[5 4 3 2 1 0 1 2 3 4]`."
   ]
  },
  {
   "cell_type": "code",
   "execution_count": 3,
   "metadata": {
    "collapsed": true
   },
   "outputs": [
    {
     "name": "stdout",
     "output_type": "stream",
     "text": [
      "[5 4 3 2 1 0 1 2 3 4]\n"
     ]
    }
   ],
   "source": [
    "print(np.array([5, 4, 3, 2, 1, 0, 1, 2, 3, 4]))"
   ]
  },
  {
   "cell_type": "markdown",
   "metadata": {},
   "source": [
    "__Q5.__ Write a code that prints out an array of every other integer from 0 to 4"
   ]
  },
  {
   "cell_type": "code",
   "execution_count": 15,
   "metadata": {
    "collapsed": true
   },
   "outputs": [
    {
     "name": "stdout",
     "output_type": "stream",
     "text": [
      "[0, 2, 4]\n"
     ]
    }
   ],
   "source": [
    "x = []\n",
    "for i in range(0, 5, 2):\n",
    "    x.append(i)\n",
    "\n",
    "print(x)"
   ]
  },
  {
   "cell_type": "markdown",
   "metadata": {},
   "source": [
    "__Q6.__ Generate the same plot as in the following figure inline:\n",
    "    \n",
    "\n"
   ]
  },
  {
   "cell_type": "code",
   "execution_count": 1,
   "metadata": {},
   "outputs": [
    {
     "data": {
      "image/jpeg": "[encoded data removed]",
      "text/plain": [
       "<IPython.core.display.Image object>"
      ]
     },
     "execution_count": 1,
     "metadata": {},
     "output_type": "execute_result"
    }
   ],
   "source": [
    "from IPython.display import Image\n",
    "Image('tutorial_plot.jpg')"
   ]
  },
  {
   "cell_type": "code",
   "execution_count": null,
   "metadata": {
    "collapsed": true
   },
   "outputs": [],
   "source": [
    "# A6.\n",
    "import numpy as np\n",
    "import matplotlib as plt\n",
    "\n",
    "x = np.r_[:1:0.01] # if you don't specify a number before the colon, the starting index defaults to 0\n",
    "y1 = np.exp( -x )\n",
    "y2 = np.sin( x*10.0 )/4.0 + 0.5\n",
    "\n",
    "plt.figure()\n",
    "plt.plot( x, y1 )\n",
    "plt.plot( x, y2 )\n",
    "plt.xlabel( \"x axis\" )\n",
    "plt.ylabel( \"y axis\" )\n",
    "\n",
    "plt.title( \"Most important graph in the world\" )\n",
    "\n",
    "plt.legend( (\"blue\", \"red\") )\n",
    "\n",
    "\n"
   ]
  }
 ],
 "metadata": {
  "kernelspec": {
   "display_name": "Python 3",
   "language": "python",
   "name": "python3"
  },
  "language_info": {
   "codemirror_mode": {
    "name": "ipython",
    "version": 3
   },
   "file_extension": ".py",
   "mimetype": "text/x-python",
   "name": "python",
   "nbconvert_exporter": "python",
   "pygments_lexer": "ipython3",
   "version": "3.9.1"
  },
  "vscode": {
   "interpreter": {
    "hash": "aee8b7b246df8f9039afb4144a1f6fd8d2ca17a180786b69acc140d282b71a49"
   }
  }
 },
 "nbformat": 4,
 "nbformat_minor": 1
}
