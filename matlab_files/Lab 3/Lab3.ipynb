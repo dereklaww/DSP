{
 "cells": [
  {
   "cell_type": "markdown",
   "metadata": {},
   "source": [
    "Load in basic libraries."
   ]
  },
  {
   "cell_type": "code",
   "execution_count": null,
   "metadata": {},
   "outputs": [],
   "source": [
    "import numpy as np, matplotlib.pyplot as plt\n",
    "from matplotlib.pyplot import *\n",
    "import queue, pyaudio \n",
    "from scipy import signal\n",
    "from numpy import *\n",
    "%matplotlib inline"
   ]
  },
  {
   "cell_type": "markdown",
   "metadata": {},
   "source": [
    "## Explore the python fft function"
   ]
  },
  {
   "cell_type": "code",
   "execution_count": null,
   "metadata": {},
   "outputs": [],
   "source": [
    "# Show the help for the fft function\n",
    "np.fft.fft?"
   ]
  },
  {
   "cell_type": "code",
   "execution_count": null,
   "metadata": {},
   "outputs": [],
   "source": [
    "from __future__ import division\n",
    "# Create sinusoidal signal\n",
    "t = np.r_[0:2:(1/44100)]\n",
    "sig = np.sin(2*np.pi*5000*t)\n",
    "\n",
    "# Perform FFT and create frequency axis\n",
    "sigfft = np.fft.fft(sig, 1024 )\n",
    "freq = np.r_[0:1024] # note this is not quite correct\n",
    "# the code below is interesting, but it is better to create your own frequency axis.\n",
    "# freq = np.fft.fftfreq(1024, 1/44100)\n",
    "\n",
    "# Plot the signal and its FFT\n",
    "# Plot the signal \n",
    "plt.figure()\n",
    "width, height = plt.figaspect(0.2)\n",
    "fig = plt.figure(figsize=(width,height))\n",
    "# stem plot\n",
    "plt.stem(t[0:441]*1000,sig[0:441],use_line_collection=True)\n",
    "# continuous plot\n",
    "#plt.plot(t[0:441]*1000,sig[0:441])\n",
    "plt.legend((\"fs = 44.1 kHz\",\"\"))\n",
    "plt.xlabel(\"time (ms)\")\n",
    "plt.ylabel(\"Amplitude\")\n",
    "\n",
    "# Plot the FFT of the signal\n",
    "plt.figure()\n",
    "width, height = plt.figaspect(0.2)\n",
    "fig = plt.figure(figsize=(width,height))\n",
    "plt.plot(freq,abs(sigfft)/np.max(abs(sigfft)))\n",
    "plt.xlabel(\"frequency (kHz)\")\n",
    "plt.ylabel(\"Normalized Amplitude\")\n",
    "plt.legend((\"fs = 44.1 kHz\",\"\"))\n"
   ]
  },
  {
   "cell_type": "markdown",
   "metadata": {},
   "source": [
    "## Things to explain and change\n",
    "### 1. In the example above we used a stem plot. Please comment this out and uncomment the continuous plot. \n",
    "### 2. Explain briefly why the continuous plot is easier to interpret - despite the fact it is sampled and a stem plot should be ok.\n",
    "### 3. Explain why 10 ms corresponds to 441 samples\n",
    "### 4. The FFT plot has the wrong frequency axis. Please fix it by modifying the code above.\n",
    "### 5. The FFT plot of a real signal is redundant - explain.\n",
    "### 6. Modify the FFT plot so that we only show the frequencies up to the Nyquist frequency.\n",
    "### 7. Numpy provides a FFT frequency function. Comment your frequency axis code and uncomment the freq axis defined using the numpy fftfreq function. Plot the FFT using the numpy freq axis. \n",
    "### 8. Explain very, very carefully what happened with the FFT plot using the numpy fftfreq function. \n"
   ]
  },
  {
   "cell_type": "markdown",
   "metadata": {},
   "source": [
    "## Define the play_audio function"
   ]
  },
  {
   "cell_type": "code",
   "execution_count": null,
   "metadata": {},
   "outputs": [],
   "source": [
    "def play_audio( Q, p, fs , dev=None):\n",
    "    # play_audio plays audio with sampling rate = fs\n",
    "    # Q - A queue object from which to play\n",
    "    # p   - pyAudio object\n",
    "    # fs  - sampling rate\n",
    "    # dev - device number\n",
    "    \n",
    "    # Example:\n",
    "    # fs = 44100\n",
    "    # p = pyaudio.PyAudio() #instantiate PyAudio\n",
    "    # Q = Queue.queue()\n",
    "    # Q.put(data)\n",
    "    # Q.put(\"EOT\") # when function gets EOT it will quit\n",
    "    # play_audio( Q, p, fs,1 ) # play audio\n",
    "    # p.terminate() # terminate pyAudio\n",
    "    \n",
    "    # open output stream\n",
    "    ostream = p.open(format=pyaudio.paFloat32, channels=1, rate=int(fs),output=True,output_device_index=dev)\n",
    "    # play audio\n",
    "    while (1):\n",
    "        data = Q.get()\n",
    "        if data is \"EOT\" :\n",
    "            break\n",
    "        try:\n",
    "            ostream.write( data.astype(np.float32).tostring() )\n",
    "        except:\n",
    "            break"
   ]
  },
  {
   "cell_type": "markdown",
   "metadata": {},
   "source": [
    "## Sample Sinusoidal Signals\n",
    "### Case 1: 5 kHz sampled with 72 kHz - this will be our reference"
   ]
  },
  {
   "cell_type": "code",
   "execution_count": null,
   "metadata": {},
   "outputs": [],
   "source": [
    "from __future__ import division\n",
    "fs = [72000, 24000, 12000, 8000, 6000]\n",
    "\n",
    "# Case 1: 5 kHz sampled with 72 kHz\n",
    "# Create signal\n",
    "t1 = np.r_[0:2:(1/fs[0])]\n",
    "sig1 = np.sin(2*np.pi*5000*t1)\n",
    "\n",
    "# Perform FFT and create frequency axis\n",
    "sig1fft = np.fft.fft(sig1, 1024 )\n",
    "freq1 = np.r_[0:1024]*(fs[0]/1024)\n",
    "\n",
    "# Plot the signal \n",
    "plt.figure()\n",
    "width, height = plt.figaspect(0.2)\n",
    "fig = plt.figure(figsize=(width,height))\n",
    "plt.plot(t1[0:720]*1000,sig1[0:720])\n",
    "plt.legend((\"fs = 72 kHz\",\"\"))\n",
    "plt.xlabel(\"time (ms)\")\n",
    "plt.ylabel(\"Amplitude\")\n",
    "\n",
    "# Plot the FFT of the signal\n",
    "plt.figure()\n",
    "width, height = plt.figaspect(0.2)\n",
    "fig = plt.figure(figsize=(width,height))\n",
    "plt.plot(freq1[0:513]/1000,abs(sig1fft[0:513])/np.max(abs(sig1fft[0:513])))\n",
    "plt.xlabel(\"frequency (kHz)\")\n",
    "plt.ylabel(\"Normalized Amplitude\")\n",
    "plt.legend((\"fs = 72 kHz\",\"\"))\n",
    "plt.axis([0,10,0,1])\n",
    "plt.xticks(np.arange(0,10+1,1))"
   ]
  },
  {
   "cell_type": "markdown",
   "metadata": {},
   "source": [
    "## Play the reference signal"
   ]
  },
  {
   "cell_type": "code",
   "execution_count": null,
   "metadata": {},
   "outputs": [],
   "source": [
    "Qout = queue.Queue()\n",
    "Qout.put( sig1 );\n",
    "Qout.put( \"EOT\" );\n",
    "p = pyaudio.PyAudio()\n",
    "play_audio(Qout,p,fs[0])\n",
    "p.terminate()"
   ]
  },
  {
   "cell_type": "markdown",
   "metadata": {},
   "source": [
    "## Repeat with different sample rates and compare to the reference\n",
    "### Case 2: 5 kHz sample with 24 kHz"
   ]
  },
  {
   "cell_type": "code",
   "execution_count": null,
   "metadata": {},
   "outputs": [],
   "source": [
    "from __future__ import division\n",
    "fs = [72000, 24000, 12000, 8000, 6000]\n",
    "\n",
    "# Case 1: 5 kHz sampled with 24 kHz\n",
    "# Create signal\n",
    "t2 = np.r_[0:2:(1/fs[1])]\n",
    "sig2 = np.sin(2*np.pi*5000*t2)\n",
    "\n",
    "# Perform FFT and create frequency axis\n",
    "sig2fft = np.fft.fft(sig2, 1024 )\n",
    "freq2 = np.r_[0:1024]*(fs[1]/1024)\n",
    "\n",
    "# Plot new signal and compare with the reference\n",
    "plt.figure()\n",
    "width, height = plt.figaspect(0.2)\n",
    "fig = plt.figure(figsize=(width,height))\n",
    "\n",
    "plt.plot(t1[0:720]*1000,sig1[0:720])\n",
    "plt.plot(t2[0:240]*1000,sig2[0:240])\n",
    "plt.legend((\"fs = 72 kHz\",\"fs = 24 kHz\"))\n",
    "plt.xlabel(\"time (ms)\")\n",
    "plt.ylabel(\"Amplitude\")\n",
    "\n",
    "# Plot FFT of new signal and compare with the reference\n",
    "plt.figure()\n",
    "width, height = plt.figaspect(0.2)\n",
    "fig = plt.figure(figsize=(width,height))\n",
    "plt.plot(freq1[0:513]/1000,abs(sig1fft[0:513])/np.max(abs(sig1fft[0:513])))\n",
    "plt.plot(freq2[0:513]/1000,abs(sig2fft[0:513])/np.max(abs(sig2fft[0:513])))\n",
    "plt.xlabel(\"frequency (kHz)\")\n",
    "plt.ylabel(\"Normalized Amplitude\")\n",
    "plt.legend((\"fs = 72 kHz\",\"fs = 24 kHz\"))\n",
    "plt.axis([0,10,0,1])\n",
    "plt.xticks(np.arange(0,10+1,1))\n"
   ]
  },
  {
   "cell_type": "markdown",
   "metadata": {},
   "source": [
    "## Play the new signal and the reference signal"
   ]
  },
  {
   "cell_type": "code",
   "execution_count": null,
   "metadata": {},
   "outputs": [],
   "source": [
    "# Reference\n",
    "Qout = Queue.Queue()\n",
    "Qout.put( sig1 );\n",
    "Qout.put( \"EOT\" );\n",
    "p = pyaudio.PyAudio()\n",
    "play_audio(Qout,p,fs[0])\n",
    "p.terminate()"
   ]
  },
  {
   "cell_type": "code",
   "execution_count": null,
   "metadata": {},
   "outputs": [],
   "source": [
    "# New \n",
    "Qout = Queue.Queue()\n",
    "Qout.put( sig2 );\n",
    "Qout.put( \"EOT\" );\n",
    "p = pyaudio.PyAudio()\n",
    "play_audio(Qout,p,fs[1])\n",
    "p.terminate()"
   ]
  },
  {
   "cell_type": "markdown",
   "metadata": {},
   "source": [
    "# Your Turn\n",
    "## Case 3:  5 kHz sampled at 12 kHz\n",
    "### Add your code below similar to case 2. \n",
    "#### Generate the new signal, compute its FFT, plot the new signal with the reference signal, plot the fft of the signal and compare with the reference signal.\n",
    "#### Play both the reference signal and the new signal. Provide a brief written explanation for what you observe."
   ]
  },
  {
   "cell_type": "code",
   "execution_count": null,
   "metadata": {},
   "outputs": [],
   "source": []
  },
  {
   "cell_type": "markdown",
   "metadata": {},
   "source": [
    "## Case 4:  5 kHz sampled at 8 kHz\n",
    "### Add your code below similar to case 2. \n",
    "#### Generate the new signal, compute its FFT, plot the new signal with the reference signal, plot the fft of the signal and compare with the reference signal.\n",
    "#### Play both the reference signal and the new signal. Provide a brief written explanation for what you observe."
   ]
  },
  {
   "cell_type": "code",
   "execution_count": null,
   "metadata": {},
   "outputs": [],
   "source": []
  },
  {
   "cell_type": "markdown",
   "metadata": {},
   "source": [
    "## Case 5:  5 kHz sampled at 6 kHz\n",
    "### Add your code below similar to case 2. \n",
    "#### Generate the new signal, compute its FFT, plot the new signal with the reference signal, plot the fft of the signal and compare with the reference signal.\n",
    "#### Play both the reference signal and the new signal. Provide a brief written explanation for what you observe."
   ]
  },
  {
   "cell_type": "code",
   "execution_count": null,
   "metadata": {},
   "outputs": [],
   "source": []
  },
  {
   "cell_type": "markdown",
   "metadata": {},
   "source": [
    "# 2D FFT Exercise"
   ]
  },
  {
   "cell_type": "code",
   "execution_count": null,
   "metadata": {},
   "outputs": [],
   "source": [
    "# Import functions and libraries\n",
    "import numpy as np\n",
    "import matplotlib.pyplot as plt\n",
    "import scipy\n",
    "\n",
    "from numpy import pi\n",
    "from numpy import sin\n",
    "from numpy import zeros\n",
    "from numpy import r_\n",
    "from scipy import signal\n",
    "import matplotlib.image as mpimg\n",
    "import matplotlib.pylab as pylab\n",
    "\n",
    "%matplotlib inline\n",
    "pylab.rcParams['figure.figsize'] = (20.0, 7.0)"
   ]
  },
  {
   "cell_type": "markdown",
   "metadata": {},
   "source": [
    "## Display Image"
   ]
  },
  {
   "cell_type": "code",
   "execution_count": null,
   "metadata": {},
   "outputs": [],
   "source": [
    "im = mpimg.imread('zelda.tif')\n",
    "im = im[:,:,1]\n",
    "f = plt.figure()\n",
    "plt.imshow(im,cmap='gray')\n",
    "print (im.shape)"
   ]
  },
  {
   "cell_type": "markdown",
   "metadata": {},
   "source": [
    "## Compare the Magnitude and Phase Spectrum of an Image\n",
    "Write python code to compute the 2D FFT of an image using np.fft.fft2(). For the magnitude spectrum, please compute the log spectrum (20 x log(abs())). Please make sure you apply the np.fft.fftshift() function."
   ]
  },
  {
   "cell_type": "code",
   "execution_count": null,
   "metadata": {},
   "outputs": [],
   "source": [
    "# Put your code here\n",
    "im_fft = \n",
    "fshift = \n",
    "magnitude_spectrum = \n",
    "phase_spectrum = \n",
    "\n",
    "# Make the plot\n",
    "plt.subplot(131),plt.imshow(im, cmap = 'gray')\n",
    "plt.title('Input Image'), plt.xticks([]), plt.yticks([])\n",
    "plt.subplot(132),plt.imshow(magnitude_spectrum, cmap = 'gray')\n",
    "plt.title('Magnitude Spectrum'), plt.xticks([]), plt.yticks([])\n",
    "plt.subplot(133),plt.imshow(phase_spectrum, cmap = 'gray')\n",
    "plt.title('Phase Spectrum'), plt.xticks([]), plt.yticks([])\n",
    "plt.show() "
   ]
  },
  {
   "cell_type": "markdown",
   "metadata": {},
   "source": [
    "Which spectrum seems to contain more information? Put your answer here."
   ]
  },
  {
   "cell_type": "markdown",
   "metadata": {},
   "source": []
  },
  {
   "cell_type": "markdown",
   "metadata": {},
   "source": [
    "# JPEG DCT Demo\n",
    "Please skim Chapter 8, Section 8.\n",
    "\n",
    "## Define 2D DCT and IDCT\n",
    "\n",
    "The DTC2 Transform is defined as follows:\n",
    "$$ X[k] = 2\\sum_{n=0}^{N-1}x[n]\\cos\\left(\\frac{\\pi k(2n+1)}{2N}\\right),\\ \\ 0\\le k \\le N-1$$\n",
    "$$ x[n] = \\frac{1}{N}\\sum_{k=0}^{N-1}\\beta[k]X[k]\\cos\\left(\\frac{\\pi k (2n+1)}{2N}\\right),\\ \\ 0 \\le n \\le N-1 $$\n",
    "where $\\beta[k]$ is a weighting function give by:\n",
    "$$\\beta[k] = \\left\\{ \\begin{array}{c}\n",
    "                     \\frac{1}{2}, & \\ \\ k=0\\\\\n",
    "                     1, & \\ \\ 1 \\le k \\le N-1\\\\\n",
    "                     \\end{array} \\right. $$\n"
   ]
  },
  {
   "cell_type": "code",
   "execution_count": null,
   "metadata": {},
   "outputs": [],
   "source": [
    "def dct2(a):\n",
    "    return scipy.fft.dct( scipy.fft.dct( a, axis=0, norm='ortho' ), axis=1, norm='ortho' )\n",
    "\n",
    "def idct2(a):\n",
    "    return scipy.fft.idct( scipy.fft.idct( a, axis=0 , norm='ortho'), axis=1 , norm='ortho')"
   ]
  },
  {
   "cell_type": "markdown",
   "metadata": {},
   "source": [
    "## Perform a blockwise DCT"
   ]
  },
  {
   "cell_type": "code",
   "execution_count": null,
   "metadata": {},
   "outputs": [],
   "source": [
    "imsize = im.shape\n",
    "dct = np.zeros(imsize)\n",
    "\n",
    "# Do 8x8 DCT on image (in-place)\n",
    "for i in r_[:imsize[0]:8]:\n",
    "    for j in r_[:imsize[1]:8]:\n",
    "        dct[i:(i+8),j:(j+8)] = dct2( im[i:(i+8),j:(j+8)] )"
   ]
  },
  {
   "cell_type": "markdown",
   "metadata": {},
   "source": [
    "## Extract 8x8 block and look at its DCT coefficients"
   ]
  },
  {
   "cell_type": "code",
   "execution_count": null,
   "metadata": {},
   "outputs": [],
   "source": [
    "pos = 150\n",
    "\n",
    "# Extract a block from image\n",
    "plt.figure()\n",
    "plt.imshow(im[pos:pos+8,pos:pos+8],cmap='gray')\n",
    "plt.title( \"An 8x8 Image block\")\n",
    "\n",
    "# Display the dct of that block\n",
    "plt.figure()\n",
    "plt.imshow(dct[pos:pos+8,pos:pos+8],cmap='gray',vmax= np.max(dct)*0.01,vmin = 0, extent=[0,pi,pi,0])\n",
    "plt.title( \"An 8x8 DCT block\")"
   ]
  },
  {
   "cell_type": "markdown",
   "metadata": {},
   "source": [
    "## Display all DCT Blocks"
   ]
  },
  {
   "cell_type": "code",
   "execution_count": null,
   "metadata": {},
   "outputs": [],
   "source": [
    "# Display entire DCT\n",
    "plt.figure()\n",
    "plt.imshow(dct,cmap='gray',vmax = np.max(dct)*0.01,vmin = 0)\n",
    "plt.title( \"8x8 DCTs of the image\")"
   ]
  },
  {
   "cell_type": "markdown",
   "metadata": {},
   "source": [
    "## Threshold DCT Coefficients"
   ]
  },
  {
   "cell_type": "code",
   "execution_count": null,
   "metadata": {},
   "outputs": [],
   "source": [
    "# Threshold\n",
    "thresh = 0.012\n",
    "dct_thresh = dct * (abs(dct) > (thresh*np.max(dct)))\n",
    "dct_thresh_discard = dct * (abs(dct) < (thresh*np.max(dct)))\n",
    "\n",
    "plt.figure()\n",
    "plt.imshow( np.hstack( (dct_thresh, dct_thresh_discard) ) ,cmap='gray',vmax = np.max(dct)*0.01,vmin = 0)\n",
    "plt.title( \"Thresholded 8x8 DCTs of the image: Left is Kept, Right is Discarded\")\n",
    "\n",
    "percent_nonzeros = np.sum( dct_thresh != 0.0 ) / (imsize[0]*imsize[1]*1.0)\n",
    "\n",
    "print (\"Keeping only %f%% of the DCT coefficients\" % (percent_nonzeros*100.0))"
   ]
  },
  {
   "cell_type": "markdown",
   "metadata": {},
   "source": [
    "## Compare DCT Compressed Image with Original"
   ]
  },
  {
   "cell_type": "code",
   "execution_count": null,
   "metadata": {},
   "outputs": [],
   "source": [
    "im_dct = np.zeros(imsize)\n",
    "\n",
    "for i in r_[:imsize[0]:8]:\n",
    "    for j in r_[:imsize[1]:8]:\n",
    "        im_dct[i:(i+8),j:(j+8)] = idct2( dct_thresh[i:(i+8),j:(j+8)] )\n",
    "        \n",
    "        \n",
    "plt.figure()\n",
    "plt.imshow( np.hstack( (im, im_dct) ) ,cmap='gray')\n",
    "plt.title(\"Comparison between original and DCT compressed images\" )"
   ]
  },
  {
   "cell_type": "markdown",
   "metadata": {},
   "source": [
    "## Compare with DFT Compressed Image\n",
    "\n",
    "Use the np.fft.fft2 to replace the dct2 function and repeat the above to compare the dft2 with the dct2 in terms of compression."
   ]
  },
  {
   "cell_type": "code",
   "execution_count": null,
   "metadata": {},
   "outputs": [],
   "source": [
    "dft = zeros(imsize,dtype='complex');\n",
    "im_dft = zeros(imsize,dtype='complex');\n",
    "\n",
    "# 8x8 DFT\n",
    "# Please add your code here\n",
    "\n",
    "\n",
    "# Apply a Threshold\n",
    "thresh = 0.013\n",
    "dft_thresh = dft * (abs(dft) > (thresh*np.max(abs(dft))))\n",
    "\n",
    "\n",
    "percent_nonzeros_dft = np.sum( dft_thresh != 0.0 ) / (imsize[0]*imsize[1]*1.0)\n",
    "print (\"Keeping only %f%% of the DCT coefficients\" % (percent_nonzeros*100.0))\n",
    "print (\"Keeping only %f%% of the DFT coefficients\" % (percent_nonzeros_dft*100.0))\n",
    "\n",
    "# 8x8 iDFT\n",
    "# Please add your code here\n",
    "\n",
    "        \n",
    "        \n",
    "plt.figure()\n",
    "plt.imshow( np.hstack( (im, im_dct, abs(im_dft)) ) ,cmap='gray')\n",
    "plt.title(\"Comparison between original, DCT compressed and DFT compressed images\" )"
   ]
  },
  {
   "cell_type": "markdown",
   "metadata": {},
   "source": [
    "# FFT DEMO\n",
    "Please run through the demo below. There is no particular coding work required, but please answer the question at the end.\n",
    "\n",
    "## Forward DFT:\n",
    "$$X[k]=\\sum_{n=0}^{N-1}x[n]W_N^{kn}$$ \n",
    "Recall from class that the DFT can be implemented as a matrix-vector multiplication. We know that the complexity of dense matrix-vector multiplication is  $\\mathcal{O}(N^2)$ .\n",
    "\n",
    "We can write this as  $\\mathbf{X}=\\mathbf{D}\\mathbf{x}$ , where  $(\\mathbf{D})kn=W_N^{kn}$."
   ]
  },
  {
   "cell_type": "code",
   "execution_count": null,
   "metadata": {},
   "outputs": [],
   "source": [
    "def W_N(N,k,n):\n",
    "    return exp(-1j * 2 * np.pi * k * n / N)\n",
    "\n",
    "def mydft(x):\n",
    "    \"\"\"Returns the 1D DFT of x using matrix-vector multiplication\"\"\"\n",
    "    N = x.shape[0]\n",
    "    n_idx = np.arange(N)\n",
    "    k_idx = n_idx[:, None]\n",
    "    return np.dot(W_N(N,k_idx,n_idx), x)\n",
    "\n",
    "L = 1024\n",
    "x = np.random.random(L) + 1j * np.random.random(L)\n",
    "\n",
    "res = np.allclose(mydft(x), np.fft.fft(x))\n",
    "if res:\n",
    "    print ('DFT matrix matches built-in FFT')\n",
    "else:\n",
    "    print ('Error in DFT matrix multiplication')\n",
    "\n",
    "%timeit mydft(x)\n",
    "%timeit np.fft.fft(x)"
   ]
  },
  {
   "cell_type": "markdown",
   "metadata": {},
   "source": [
    "## Symmetry in the DFT\n",
    "Recall the periodicity/symmetry of the DFT:\n",
    "$$ \\begin{array}{ll}\n",
    "   X[k+mN] & = &  \\sum_{n=0}^{N-1}x[n]W_N^{(k+mN)n} \\\\\n",
    "           & = & \\sum_{n=0}^{N-1}x[n]W_N^{kn}\\\\\n",
    "           & = & X[k]\\\\\n",
    "   \\end{array} $$     \n",
    "where we have used the periodicity of $W_N$.\n",
    "\n",
    "We can use this symmetry to split the DTF into two smaller DFTs:\n",
    "$$ \\begin{array}{ll}\n",
    "    X[k] & = &  \\sum_{n=0}^{N-1}x[n]W_N^{kn}\\\\\n",
    "         & = & \\sum_{m=0}^{N/2-1}x[2m]W_N^{k(2m)} + \\sum_{m=0}^{N/2-1}x[2m+1]W_N^{k(2m+1)}\\\\\n",
    "   \\end{array} $$\n",
    "\n",
    "The FFT uses this property to decompose the length-N DFT into two length-N/2 DFTs, repeadetly. This amounts to a complexity of $\\mathcal{O}(N\\log N)$.\n",
    "   "
   ]
  },
  {
   "cell_type": "code",
   "execution_count": null,
   "metadata": {},
   "outputs": [],
   "source": [
    "def myfft(x):\n",
    "    \"\"\"A recursive implementation of the 1D Cooley-Tukey FFT\"\"\"\n",
    "    N = x.shape[0]\n",
    "    \n",
    "    if N % 2 > 0:\n",
    "        raise ValueError(\"size of x must be a power of 2\")\n",
    "    elif N <= 32:  # this cutoff should be optimized\n",
    "        return mydft(x)\n",
    "    else:\n",
    "        X_even = myfft(x[::2])\n",
    "        X_odd = myfft(x[1::2])\n",
    "        n_idx = np.arange(N)\n",
    "        factor = W_N(N,n_idx, 1)\n",
    "        return np.concatenate([X_even + factor[:N // 2] * X_odd,\n",
    "          \n",
    "                               X_even + factor[N // 2:] * X_odd])\n",
    "    \n",
    "res = np.allclose(myfft(x), np.fft.fft(x))\n",
    "if res:\n",
    "    print ('Our FFT matches built-in FFT')\n",
    "else:\n",
    "    print ('Error in recursive FFT implementation')\n",
    "    \n",
    "    \n",
    "%timeit mydft(x)\n",
    "%timeit myfft(x)\n",
    "%timeit np.fft.fft(x)"
   ]
  },
  {
   "cell_type": "markdown",
   "metadata": {},
   "source": [
    "## Leveraging Numpy Vectorization\n",
    "To get the most out of Numpy (and MATLAB), it is best to use vectorized operations instead of FOR loops or recursioin. We can speed up our FFT by doing this."
   ]
  },
  {
   "cell_type": "code",
   "execution_count": null,
   "metadata": {},
   "outputs": [],
   "source": [
    "def myfft_vec(x):\n",
    "    \"\"\"A vectorized, non-recursive version of the Cooley-Tukey FFT\"\"\"\n",
    "    N = x.shape[0]\n",
    "\n",
    "    if N % 2 > 0:\n",
    "        raise ValueError(\"size of x must be a power of 2\")\n",
    "\n",
    "    # N_min here is equivalent to the stopping condition above,\n",
    "    # and should be a power of 2\n",
    "    N_min = min(N, 32)\n",
    "    \n",
    "    # Perform an O[N^2] DFT on all length-N_min sub-problems at once\n",
    "    n_idx = np.arange(N_min)\n",
    "    k_idx = n_idx[:, None]\n",
    "    D = W_N(N_min, n_idx, k_idx)\n",
    "    X = np.dot(D, x.reshape((N_min, -1)))\n",
    "\n",
    "    # build-up each level of the recursive calculation all at once\n",
    "    while X.shape[0] < N:\n",
    "        X_even = X[:, :X.shape[1] // 2]\n",
    "        X_odd = X[:, X.shape[1] // 2:]\n",
    "        factor = W_N(X.shape[0], np.arange(X.shape[0]), 0.5)[:, None]\n",
    "        X = np.vstack([X_even + factor * X_odd,\n",
    "                       X_even - factor * X_odd])\n",
    "\n",
    "    return X.ravel()\n",
    "\n",
    "\n",
    "res = np.allclose(myfft_vec(x), np.fft.fft(x))\n",
    "if res:\n",
    "    print ('Our vectorized FFT matches built-in FFT')\n",
    "else:\n",
    "    print ('Error in recursive FFT implementation')\n",
    "    \n",
    "%timeit mydft(x)\n",
    "%timeit myfft(x)\n",
    "%timeit myfft_vec(x)\n",
    "%timeit np.fft.fft(x)"
   ]
  },
  {
   "cell_type": "markdown",
   "metadata": {},
   "source": [
    "Please summarize your observations of the demo here:"
   ]
  }
 ],
 "metadata": {
  "kernelspec": {
   "display_name": "Python 3",
   "language": "python",
   "name": "python3"
  },
  "language_info": {
   "codemirror_mode": {
    "name": "ipython",
    "version": 3
   },
   "file_extension": ".py",
   "mimetype": "text/x-python",
   "name": "python",
   "nbconvert_exporter": "python",
   "pygments_lexer": "ipython3",
   "version": "3.7.6"
  }
 },
 "nbformat": 4,
 "nbformat_minor": 2
}
